{
 "cells": [
  {
   "cell_type": "markdown",
   "id": "55c3996d-dd18-4907-b925-512bd1172518",
   "metadata": {},
   "source": [
    "### Uruchomienie testów:\n",
    "Podstawowe komórki bezpośrednio wymagane do działania - podstawowe importy, basicstarter, cookiepopup, steamstart. Poza tym wszystkie funkcje są już niezależne, i mogą być uruchamiane w dowolnej kolejności, zgodnie z zasadą - najpierw inicjalizacja funkcji, następnie jej uruchomienie."
   ]
  },
  {
   "cell_type": "code",
   "execution_count": 158,
   "id": "efad3c2d-59b8-4a98-87ae-1b38939dcde3",
   "metadata": {},
   "outputs": [],
   "source": [
    "from selenium import webdriver\n",
    "from selenium.webdriver.common.keys import Keys\n",
    "from selenium.webdriver.common.by import By\n",
    "from selenium.webdriver.support.ui import WebDriverWait\n",
    "from selenium.webdriver.support import expected_conditions\n",
    "from selenium.webdriver.common.action_chains import ActionChains\n",
    "import time\n",
    "from selenium.webdriver.support.ui import Select"
   ]
  },
  {
   "cell_type": "markdown",
   "id": "64cfb214-725e-499f-a07f-20b2a52d99d9",
   "metadata": {},
   "source": [
    "### Przypadek testowy 1 (+ funkcja pomocnicza) - Sprawdzenie czy Steam zwraca poprawny tytuł przy uruchomieniu\n",
    "Asercje: 1(1)"
   ]
  },
  {
   "cell_type": "code",
   "execution_count": 2,
   "id": "db14eaa4-4251-4c90-a249-73a511273ec7",
   "metadata": {},
   "outputs": [],
   "source": [
    "def basicstarter():\n",
    "    options=webdriver.FirefoxOptions()\n",
    "    driver=webdriver.Firefox(options=options)\n",
    "    return driver"
   ]
  },
  {
   "cell_type": "code",
   "execution_count": 3,
   "id": "c930c2bd-25a2-4c85-ade2-0a252a95bb74",
   "metadata": {},
   "outputs": [],
   "source": [
    "def closepopup(driver):\n",
    "    cookie_popup = WebDriverWait(driver,15).until(expected_conditions.visibility_of_element_located((By.CSS_SELECTOR, '#cookiePrefPopup')))\n",
    "    cookie = WebDriverWait(driver,10).until(expected_conditions.presence_of_element_located((By.CSS_SELECTOR, '#rejectAllButton > span:nth-child(1)')))\n",
    "    cookie.click()"
   ]
  },
  {
   "cell_type": "code",
   "execution_count": 4,
   "id": "c9fa56e7-3395-498c-8260-91375e4f2ee8",
   "metadata": {},
   "outputs": [],
   "source": [
    "def steamstart(driver):\n",
    "    driver.get(\"https://store.steampowered.com\")\n",
    "    assert \"Welcome to Steam\"==driver.title, \"Tytuł nie pasuje\"\n",
    "    closepopup(driver)"
   ]
  },
  {
   "cell_type": "code",
   "execution_count": 29,
   "id": "dc86c498-4ab5-428b-9a99-f14816faee11",
   "metadata": {},
   "outputs": [],
   "source": [
    "def basickiller(driver):\n",
    "    driver.quit()"
   ]
  },
  {
   "cell_type": "code",
   "execution_count": 32,
   "id": "aa7d35ed-d409-4f08-bab2-6f21a5fc3df1",
   "metadata": {},
   "outputs": [],
   "source": [
    "def steamget():\n",
    "    driver=basicstarter()\n",
    "    steamstart(driver)\n",
    "    basickiller(driver)\n",
    "    print(\"Test zakończony powodzeniem\")"
   ]
  },
  {
   "cell_type": "code",
   "execution_count": 33,
   "id": "fd84c8a9-c2e1-479e-bb68-38e7c85827e5",
   "metadata": {},
   "outputs": [
    {
     "name": "stdout",
     "output_type": "stream",
     "text": [
      "Test zakończony powodzeniem\n"
     ]
    }
   ],
   "source": [
    "steamget()"
   ]
  },
  {
   "cell_type": "markdown",
   "id": "03e92c32-5051-4a4c-903a-dbfeaaec3fbc",
   "metadata": {},
   "source": [
    "### Przypadek Testowy 2 - sprawdzenie czy wyszukiwanie frazy Ghost Recon zwróci istotne wyniki\n",
    "Asercje: 1(2)"
   ]
  },
  {
   "cell_type": "code",
   "execution_count": 34,
   "id": "4f1e42aa-e329-4311-8a0a-b664909cdc26",
   "metadata": {},
   "outputs": [],
   "source": [
    "def testGhostReconSearch():\n",
    "    driver=basicstarter()\n",
    "    steamstart(driver)\n",
    "    search=driver.find_element(By.XPATH,'//input[@id=\"store_nav_search_term\"]')\n",
    "    search.send_keys(\"Ghost Recon\")\n",
    "    search.send_keys(Keys.RETURN)\n",
    "    wait = WebDriverWait(driver, 10)\n",
    "    first = wait.until(expected_conditions.presence_of_element_located((By.CSS_SELECTOR, 'a.search_result_row')))\n",
    "    assert \"GHOST RECON\" in first.text.upper(), \"Odnaleziony element nie jest istotny względem wyszukiwanej frazy\"\n",
    "    basickiller(driver)\n",
    "    print(\"Test zakończony sukcesem\")"
   ]
  },
  {
   "cell_type": "code",
   "execution_count": 35,
   "id": "4f4960ac-f44a-4777-90c4-5987a8d9275b",
   "metadata": {},
   "outputs": [
    {
     "name": "stdout",
     "output_type": "stream",
     "text": [
      "Test zakończony sukcesem\n"
     ]
    }
   ],
   "source": [
    "testGhostReconSearch()"
   ]
  },
  {
   "cell_type": "markdown",
   "id": "b4af86a9-22de-40f1-8696-e73ac3a684a6",
   "metadata": {},
   "source": [
    "### Przypadek testowy 3 - sprawdzenie czy produkt na frontowym panelu może być istotny i czy pojawił się tam w związku z istotną obniżką ceny\n",
    "Asercje: 6(8)"
   ]
  },
  {
   "cell_type": "code",
   "execution_count": 36,
   "id": "caf0b8da-6cd8-41fb-9bc2-6ca261fa17fe",
   "metadata": {},
   "outputs": [],
   "source": [
    "def checkfirstgame():\n",
    "    driver=basicstarter()\n",
    "    steamstart(driver)\n",
    "    wait = WebDriverWait(driver, 10)\n",
    "    first = wait.until(expected_conditions.presence_of_element_located((By.CSS_SELECTOR, 'a.tab_item')))\n",
    "    lines=first.text.split(\"\\n\")\n",
    "    assert \",\" in lines[-1], \"Gra zawiera mniej niż 2 tagi - raczej nie będzie zbyt zaawansowana\"\n",
    "    assert \"-\" in lines[0], \"Gra nie jest na zniżce\"\n",
    "    originalprice=lines[1]\n",
    "    newprice=lines[2]\n",
    "    originalprice=float(originalprice[:-2].replace(\",\", \".\"))\n",
    "    newprice=float(newprice[:-2].replace(\",\",\".\"))\n",
    "    print(\"Gra -\", lines[3])\n",
    "    print(\"Zniżka -\", lines[0])\n",
    "    print(\"Cena oryginalna -\", originalprice)\n",
    "    print(\"Nowa cena -\", newprice)\n",
    "    print(\"-----------\")\n",
    "    if originalprice>=100:\n",
    "        assert originalprice-newprice>=20, \"Zniżka przy oryginalnej cenie powyżej 100 zł jest mniejsza niż 20 zł\"\n",
    "    elif originalprice>=50:\n",
    "        assert originalprice-newprice>=10, \"Zniżka przy oryginalnej cenie powyżej 50 zł jest mniejsza niż 10 zł\"\n",
    "    elif originalprice>=10:\n",
    "        assert originalprice-newprice>=2, \"Zniżka przy oryginalnej cenie powyżej 10 zł jest mniejsza niż 2 zł\"\n",
    "    else:\n",
    "        assert originalprice-newprice>=1, \"Zniżka jest mniejsza niż 1 zł\"\n",
    "    basickiller(driver)\n",
    "    print(\"Test zakończony sukcesem\")"
   ]
  },
  {
   "cell_type": "code",
   "execution_count": 37,
   "id": "c5d2dec2-183b-47dc-b1b8-17e96c96ad47",
   "metadata": {},
   "outputs": [
    {
     "name": "stdout",
     "output_type": "stream",
     "text": [
      "Gra - Sker Ritual\n",
      "Zniżka - -20%\n",
      "Cena oryginalna - 114.99\n",
      "Nowa cena - 91.99\n",
      "-----------\n",
      "Test zakończony sukcesem\n"
     ]
    }
   ],
   "source": [
    "checkfirstgame()"
   ]
  },
  {
   "cell_type": "markdown",
   "id": "cc290452-74e0-4d76-b0a7-c8a524521ff5",
   "metadata": {},
   "source": [
    "### Przypadek testowy 4 - Sprawdzenie czy przechodzenie między kategoriami ofert specjalnych działa poprawnie\n",
    "Asercje: 4(12)"
   ]
  },
  {
   "cell_type": "code",
   "execution_count": 38,
   "id": "9bee046c-8848-4627-8ce0-794bd4da918a",
   "metadata": {},
   "outputs": [],
   "source": [
    "def checkspecials():\n",
    "    driver=basicstarter()\n",
    "    steamstart(driver)\n",
    "    specialoffers = WebDriverWait(driver, 10).until(expected_conditions.element_to_be_clickable((By.LINK_TEXT, 'Specials')))\n",
    "    specialoffers.click()\n",
    "    assert \"specials\" in driver.current_url, \"Całkowicie niewłaściwe przekierowanie\"\n",
    "    assert \"tab=TopSellers\" in driver.current_url, \"Podstrona TopSellers nie została otwarta\"\n",
    "    casual = WebDriverWait(driver, 10).until(expected_conditions.element_to_be_clickable((By.CSS_SELECTOR, '#Tab_11')))\n",
    "    casual.click()\n",
    "    assert \"tab=11\" in driver.current_url, \"Nie wykonano przejścia na kategorię Casual\"\n",
    "    sports = WebDriverWait(driver, 10).until(expected_conditions.element_to_be_clickable((By.CSS_SELECTOR, '#Tab_10')))\n",
    "    sports.click()\n",
    "    assert \"tab=10\" in driver.current_url, \"Nie wykonano przejścia na kategorię Sports & Racing\"\n",
    "    basickiller(driver)\n",
    "    print(\"Test zakończony sukcesem\")"
   ]
  },
  {
   "cell_type": "code",
   "execution_count": 39,
   "id": "6c086d7a-1dae-4f97-9a17-34e3a32da4f5",
   "metadata": {},
   "outputs": [
    {
     "name": "stdout",
     "output_type": "stream",
     "text": [
      "Test zakończony sukcesem\n"
     ]
    }
   ],
   "source": [
    "checkspecials()"
   ]
  },
  {
   "cell_type": "markdown",
   "id": "2a74b358-04e8-4bd1-8ed9-35959ea7f3f8",
   "metadata": {},
   "source": [
    "### Przypadek testowy 5 - Sprawdzenie czy któreś z pierwszych dziesięciu najpopularniejszych gier na promocji pochodzi z lat 2023-2024\n",
    "Asercje: 3(15)"
   ]
  },
  {
   "cell_type": "code",
   "execution_count": 40,
   "id": "ce12a29f-1d28-42b6-a6f0-ac800c6f82b4",
   "metadata": {},
   "outputs": [],
   "source": [
    "def regularoffers():\n",
    "    driver=basicstarter()\n",
    "    steamstart(driver)\n",
    "    specialoffers = WebDriverWait(driver, 10).until(expected_conditions.element_to_be_clickable((By.CSS_SELECTOR, 'a.big_button:nth-child(2)')))\n",
    "    specialoffers.click()\n",
    "    assert \"https://store.steampowered.com/search/?specials=1\"==driver.current_url, \"Niewłaściwa strona Specials\"\n",
    "    games = WebDriverWait(driver,10).until(expected_conditions.presence_of_all_elements_located((By.CSS_SELECTOR, '#search_resultsRows')))\n",
    "    games=games[0].text.split(\"\\n\")\n",
    "    discounted=[]\n",
    "    x=0\n",
    "    assert len(games)>40, \"Zbyt mało elementów na wyprzedaży...\"\n",
    "    for i in range (10):\n",
    "        g1=games[x]\n",
    "        x=x+1\n",
    "        g2=games[x]\n",
    "        x=x+1\n",
    "        g3=games[x]\n",
    "        x=x+1\n",
    "        game=[]\n",
    "        if g3[:-3].replace(\",\", \"\").isnumeric()==False:\n",
    "            g4=games[x]\n",
    "            x=x+1\n",
    "            g5=games[x]\n",
    "            x=x+1\n",
    "            game=[g1, g2, g3, g4, g5]\n",
    "        else:\n",
    "            game=[g1, g2, g3]\n",
    "        discounted.append(game)\n",
    "    years=[]\n",
    "    for i in range (10):\n",
    "        year=discounted[i][1][-4:]\n",
    "        years.append(year)\n",
    "    assert ((\"2023\" in years) or (\"2024\" in years)), \"Brak najnowszych gier w najpopularniejszych produktach wyprzedażowych\"\n",
    "    basickiller(driver)\n",
    "    print(\"Test zakończony sukcesem\")"
   ]
  },
  {
   "cell_type": "code",
   "execution_count": 41,
   "id": "78d2ae2e-b38a-4ad5-beb7-5bc80e31f393",
   "metadata": {},
   "outputs": [
    {
     "name": "stdout",
     "output_type": "stream",
     "text": [
      "Test zakończony sukcesem\n"
     ]
    }
   ],
   "source": [
    "regularoffers()"
   ]
  },
  {
   "cell_type": "markdown",
   "id": "eb59c5c2-c2f0-446e-9265-77e07fb1ac77",
   "metadata": {},
   "source": [
    "### Przypadek testowy 6 - Sprawdzenie czy przejście do Steam Community działa poprawnie\n",
    "Asercje: 2(17)"
   ]
  },
  {
   "cell_type": "code",
   "execution_count": 42,
   "id": "550d8858-ace7-4b3e-83c4-fbe66ec95c23",
   "metadata": {},
   "outputs": [],
   "source": [
    "def getCommunity():\n",
    "    driver=basicstarter()\n",
    "    steamstart(driver)\n",
    "    community = WebDriverWait(driver, 10).until(expected_conditions.element_to_be_clickable((By.CSS_SELECTOR, 'a.menuitem:nth-child(3)')))\n",
    "    community.click()\n",
    "    assert driver.current_url==\"https://steamcommunity.com/\", \"Niewłaściwe przekierowanie\"\n",
    "    assert driver.title==\"Steam Community\", \"Niewłaściwy tytuł strony\"\n",
    "    basickiller(driver)\n",
    "    print(\"Test zakończony sukcesem\")"
   ]
  },
  {
   "cell_type": "code",
   "execution_count": 43,
   "id": "c2e88a2a-9161-4ce5-9b4a-c56dac4ab34f",
   "metadata": {},
   "outputs": [
    {
     "name": "stdout",
     "output_type": "stream",
     "text": [
      "Test zakończony sukcesem\n"
     ]
    }
   ],
   "source": [
    "getCommunity()"
   ]
  },
  {
   "cell_type": "markdown",
   "id": "844138bb-9820-491b-960d-16b84ac1387c",
   "metadata": {},
   "source": [
    "### Przypadek testowy 7 - Sprawdzenie czy przejście do About działa poprawnie\n",
    "Asercje: 2(19)"
   ]
  },
  {
   "cell_type": "code",
   "execution_count": 44,
   "id": "7f8ff85b-eb7e-414f-b2ea-46ba87917f92",
   "metadata": {},
   "outputs": [],
   "source": [
    "def getAbout():\n",
    "    driver=basicstarter()\n",
    "    steamstart(driver)\n",
    "    about = WebDriverWait(driver, 10).until(expected_conditions.element_to_be_clickable((By.CSS_SELECTOR, 'a.menuitem:nth-child(5)')))\n",
    "    about.click()\n",
    "    assert \"https://store.steampowered.com/about/\"==driver.current_url, \"Niewłaściwe przekierowanie\"\n",
    "    assert driver.title==\"Steam, The Ultimate Online Game Platform\", \"Niewłaściwy tytuł strony\"\n",
    "    basickiller(driver)\n",
    "    print(\"Test zakończony sukcesem\")"
   ]
  },
  {
   "cell_type": "code",
   "execution_count": 45,
   "id": "228d8665-c621-4e89-89e5-520e6a0ffc80",
   "metadata": {},
   "outputs": [
    {
     "name": "stdout",
     "output_type": "stream",
     "text": [
      "Test zakończony sukcesem\n"
     ]
    }
   ],
   "source": [
    "getAbout()"
   ]
  },
  {
   "cell_type": "markdown",
   "id": "b6303497-3c7d-4e53-b93c-ec872798e334",
   "metadata": {},
   "source": [
    "### Przypadek testowy 8 - Próba zmiany języka na polski\n",
    "Asercje: 2(21)"
   ]
  },
  {
   "cell_type": "code",
   "execution_count": 46,
   "id": "5fa245ce-fef3-407c-a59f-ad27a53789eb",
   "metadata": {},
   "outputs": [],
   "source": [
    "def changeLanguage():\n",
    "    driver=basicstarter()\n",
    "    steamstart(driver)\n",
    "    lang = WebDriverWait(driver, 10).until(expected_conditions.element_to_be_clickable((By.CSS_SELECTOR, '#language_pulldown')))\n",
    "    lang.click()\n",
    "    pl = WebDriverWait(driver, 10).until(expected_conditions.element_to_be_clickable((By.CSS_SELECTOR, 'a.tight:nth-child(19)')))\n",
    "    pl.click()\n",
    "    time.sleep(4)\n",
    "    assert driver.current_url==\"https://store.steampowered.com/\", \"Przekierowano na url inny niż strona sklepu\"\n",
    "    assert driver.title==\"Witamy na Steam\", \"Tytuł nie odpowiada polskiemu tytułowi strony\"\n",
    "    basickiller(driver)\n",
    "    print(\"Test zakończony sukcesem\")"
   ]
  },
  {
   "cell_type": "code",
   "execution_count": 47,
   "id": "94318a89-fd51-416f-8015-8988beafbdd6",
   "metadata": {},
   "outputs": [
    {
     "name": "stdout",
     "output_type": "stream",
     "text": [
      "Test zakończony sukcesem\n"
     ]
    }
   ],
   "source": [
    "changeLanguage()"
   ]
  },
  {
   "cell_type": "markdown",
   "id": "dbfbf76f-808f-4b7c-87f3-13fe99c3512b",
   "metadata": {},
   "source": [
    "### Przypadek testowy 9 - Sprawdzenie czy kliknięcie na ikonę Steam spowoduje powrót na stronę główną\n",
    "Asercje: 2(23)"
   ]
  },
  {
   "cell_type": "code",
   "execution_count": 48,
   "id": "255afe93-e67d-4c39-9d21-c0409beb2b6c",
   "metadata": {},
   "outputs": [],
   "source": [
    "def logopress():\n",
    "    driver=basicstarter()\n",
    "    steamstart(driver)\n",
    "    logo = WebDriverWait(driver, 10).until(expected_conditions.element_to_be_clickable((By.CSS_SELECTOR, '#logo_holder > a:nth-child(1) > img:nth-child(1)')))\n",
    "    logo.click()\n",
    "    assert driver.current_url==\"https://store.steampowered.com/\", \"Przekierowano na inną stronę\"\n",
    "    assert \"Welcome to Steam\"==driver.title, \"Tytuł nie pasuje\"\n",
    "    basickiller(driver)\n",
    "    print(\"Test zakończony sukcesem\")"
   ]
  },
  {
   "cell_type": "code",
   "execution_count": 49,
   "id": "a732003d-ab4a-4651-b94c-b86eeafdab14",
   "metadata": {},
   "outputs": [
    {
     "name": "stdout",
     "output_type": "stream",
     "text": [
      "Test zakończony sukcesem\n"
     ]
    }
   ],
   "source": [
    "logopress()"
   ]
  },
  {
   "cell_type": "markdown",
   "id": "a90604cc-5180-4f37-9b0e-988f88e8360f",
   "metadata": {},
   "source": [
    "### Przypadek testowy 10 - Sprawdzenie czy kliknięcie na ikonę Steam spowoduje powrót na stronę główną z innego obszaru(swoiste rozszerzenie testu 9)\n",
    "Asercje: 4(29)"
   ]
  },
  {
   "cell_type": "code",
   "execution_count": 50,
   "id": "d086b082-592b-41e4-9a2e-67ead1d12789",
   "metadata": {},
   "outputs": [],
   "source": [
    "def logopress2():\n",
    "    driver=basicstarter()\n",
    "    steamstart(driver)\n",
    "    points = WebDriverWait(driver, 10).until(expected_conditions.element_to_be_clickable((By.CSS_SELECTOR, 'a.tab:nth-child(8) > span:nth-child(1)')))\n",
    "    points.click()\n",
    "    assert driver.current_url==\"https://store.steampowered.com/points/\", \"Nastąpiło przejście na niewłaściwy adres url\"\n",
    "    assert driver.title==\"Steam Points Shop\", \"Strona ma niepoprawny tytuł\"\n",
    "    time.sleep(2)\n",
    "    assert driver.current_url==\"https://store.steampowered.com/points/shop\", \"Nie nastąpiła aktualizacja adresu url\"\n",
    "    logo = WebDriverWait(driver, 10).until(expected_conditions.element_to_be_clickable((By.CSS_SELECTOR, '#logo_holder > a:nth-child(1) > img:nth-child(1)')))\n",
    "    logo.click()\n",
    "    assert driver.current_url==\"https://store.steampowered.com/\", \"Przekierowano na inną stronę niż główną\"\n",
    "    assert \"Welcome to Steam\"==driver.title, \"Tytuł powrotnu nie pasuje\"\n",
    "    basickiller(driver)\n",
    "    print(\"Test zakończony sukcesem\")"
   ]
  },
  {
   "cell_type": "code",
   "execution_count": 51,
   "id": "1d81914e-ebe0-436d-a078-8373615c5cf8",
   "metadata": {},
   "outputs": [
    {
     "name": "stdout",
     "output_type": "stream",
     "text": [
      "Test zakończony sukcesem\n"
     ]
    }
   ],
   "source": [
    "logopress2()"
   ]
  },
  {
   "cell_type": "markdown",
   "id": "cb069501-5fc0-46e7-b420-fbdb4e45a36b",
   "metadata": {},
   "source": [
    "### Przypadek testowy 11 - Wyszukanie gry i sprawdzenie jej ocen\n",
    "Asercje: 2(31)"
   ]
  },
  {
   "cell_type": "code",
   "execution_count": 152,
   "id": "af43cbce-f06f-46d7-8fa7-b050a84e533e",
   "metadata": {},
   "outputs": [],
   "source": [
    "def lookforgame():\n",
    "    driver=basicstarter()\n",
    "    steamstart(driver)\n",
    "    search=driver.find_element(By.XPATH,'//input[@id=\"store_nav_search_term\"]')\n",
    "    search.send_keys(\"Alone in the Dark 1\")\n",
    "    aitd= WebDriverWait(driver, 10).until(expected_conditions.element_to_be_clickable((By.CSS_SELECTOR, '.includes_games')))\n",
    "    aitd.click()\n",
    "    assert \"Alone in the Dark 1 on Steam\" in driver.title, \"Niewłaściwa gra została wyświetlona\"\n",
    "    reviews= WebDriverWait(driver, 10).until(expected_conditions.element_to_be_clickable((By.CSS_SELECTOR, '#userReviews > div:nth-child(2) > div:nth-child(2) > span:nth-child(1)')))\n",
    "    reviews.click()\n",
    "    assert \"#app_reviews_hash\" in driver.current_url, \"Nie udało się przejść automatycznie do ocen użytkowników\"\n",
    "    basickiller(driver)\n",
    "    print(\"Test zakończony sukcesem\")"
   ]
  },
  {
   "cell_type": "code",
   "execution_count": 153,
   "id": "b6d358da-4190-4580-97e7-39400e2a2374",
   "metadata": {},
   "outputs": [
    {
     "name": "stdout",
     "output_type": "stream",
     "text": [
      "Test zakończony sukcesem\n"
     ]
    }
   ],
   "source": [
    "lookforgame()"
   ]
  },
  {
   "cell_type": "markdown",
   "id": "e6aecf1f-f5b3-4ae6-80d4-75612c34639a",
   "metadata": {},
   "source": [
    "### Przypadek testowy 12 - Wyszukanie gry, otworzenie jej strony sklepu i przekierowanie do listy osiągnięć\n",
    "Asercje: 3(34)"
   ]
  },
  {
   "cell_type": "code",
   "execution_count": 154,
   "id": "271d9c7e-c8d7-492a-ba7e-fc1190fde017",
   "metadata": {},
   "outputs": [],
   "source": [
    "def achievements():\n",
    "    driver=basicstarter()\n",
    "    steamstart(driver)\n",
    "    search=driver.find_element(By.XPATH,'//input[@id=\"store_nav_search_term\"]')\n",
    "    search.send_keys(\"new star soccer\")\n",
    "    search.send_keys(Keys.RETURN)\n",
    "    first = WebDriverWait(driver, 10).until(expected_conditions.presence_of_element_located((By.CSS_SELECTOR, 'a.search_result_row')))\n",
    "    assert \"NEW STAR SOCCER 5\" in first.text.upper(), \"Nie odnaleziono szukanej gry\"\n",
    "    first.click()\n",
    "    assert \"New Star Soccer 5 on Steam\" in driver.title, \"Otworzono niewłaściwą grę\"\n",
    "    nss= WebDriverWait(driver, 10).until(expected_conditions.element_to_be_clickable((By.CSS_SELECTOR, 'a.communitylink_achievement')))\n",
    "    nss.click()\n",
    "    assert driver.title==\"Steam Community :: New Star Soccer 5 :: Achievements\", \"Nie otworzono listy osiągnięć\"\n",
    "    basickiller(driver)\n",
    "    print(\"Test zakończony sukcesem\")"
   ]
  },
  {
   "cell_type": "code",
   "execution_count": 155,
   "id": "69f3df40-2083-4bc5-8c9d-513929e26bb6",
   "metadata": {},
   "outputs": [
    {
     "name": "stdout",
     "output_type": "stream",
     "text": [
      "Test zakończony sukcesem\n"
     ]
    }
   ],
   "source": [
    "achievements()"
   ]
  },
  {
   "cell_type": "markdown",
   "id": "9d29b716-c499-4c5f-9803-2c0be0eb2b5d",
   "metadata": {},
   "source": [
    "### Przypadek testowy 13 - Wejście w Steam Refunds i uzyskanie dostępu do treści polityki zwrotów\n",
    "Asercje: 3(37)"
   ]
  },
  {
   "cell_type": "code",
   "execution_count": 117,
   "id": "cce89dfd-9055-4bff-afb4-9644eeb638be",
   "metadata": {},
   "outputs": [],
   "source": [
    "def refunds():\n",
    "    deriver=basicstarter()\n",
    "    steamstart(deriver)\n",
    "    refunds= WebDriverWait(deriver, 10).until(expected_conditions.element_to_be_clickable((By.CSS_SELECTOR, '#footer_text > div:nth-child(2) > a:nth-child(4)')))\n",
    "    refunds.click()\n",
    "    deriver.switch_to.window(deriver.window_handles[1])\n",
    "    time.sleep(2)\n",
    "    assert deriver.title==\"Steam Refunds\", \"Nie otworzono polityki zwrotów\"\n",
    "    content=deriver.page_source\n",
    "    assert \"refund period\" in content.lower(), \"Brak informacji o długości okresu zwrotów\"\n",
    "    assert \"last updated\" in content.lower(), \"Brak informacji o dacie ostatniej aktualizacji polityki zwrotów\"\n",
    "    basickiller(deriver)\n",
    "    print(\"Test zakończony sukcesem\")"
   ]
  },
  {
   "cell_type": "code",
   "execution_count": 119,
   "id": "af799ecf-9a1d-4930-9195-86d0e664ce79",
   "metadata": {},
   "outputs": [
    {
     "name": "stdout",
     "output_type": "stream",
     "text": [
      "Test zakończony sukcesem\n"
     ]
    }
   ],
   "source": [
    "refunds()"
   ]
  },
  {
   "cell_type": "markdown",
   "id": "bf9fff70-2201-468d-b725-731765c93e30",
   "metadata": {},
   "source": [
    "### Przypadek testowy 14 - Sprawdzenie czy wejście w \"Gry Polecane przez Znajomych\" jako gość spowoduje przekierowanie na stronę \"Zaloguj Się\"\n",
    "Asercje: 2(39)"
   ]
  },
  {
   "cell_type": "code",
   "execution_count": 120,
   "id": "6fa3ea1d-ba42-4dbe-897a-e6127dd21ac5",
   "metadata": {},
   "outputs": [],
   "source": [
    "def recommendedtoguest():\n",
    "    driver=basicstarter()\n",
    "    steamstart(driver)\n",
    "    recommended= WebDriverWait(driver, 10).until(expected_conditions.element_to_be_clickable((By.CSS_SELECTOR, 'div.gutter_items:nth-child(6) > a:nth-child(1)')))\n",
    "    recommended.click()\n",
    "    assert \"Sign In\" == driver.title, \"Tytuł strony nie odpowiada oczekiwanemu tytułowi\"\n",
    "    assert \"https://store.steampowered.com/login\" in driver.current_url, \"Nie doszło do przekierowania na właściwą stronę logowania\"\n",
    "    basickiller(driver)\n",
    "    print(\"Test zakończony sukcesem\")"
   ]
  },
  {
   "cell_type": "code",
   "execution_count": 121,
   "id": "4875d1fc-d780-468f-8ac7-3c5966181ebb",
   "metadata": {},
   "outputs": [
    {
     "name": "stdout",
     "output_type": "stream",
     "text": [
      "Test zakończony sukcesem\n"
     ]
    }
   ],
   "source": [
    "recommendedtoguest()"
   ]
  },
  {
   "cell_type": "markdown",
   "id": "3c199ec1-e620-4324-b834-d690de7fbedd",
   "metadata": {},
   "source": [
    "### Przypadek testowy 15 - Sprawdzenie czy przejście na stronę Steam Support i wyszukiwanie pomocy po wyrazie działa poprawnie\n",
    "Asercje: 3(42)"
   ]
  },
  {
   "cell_type": "code",
   "execution_count": 146,
   "id": "e0e023da-a636-4fc6-841f-ea3b47df3b32",
   "metadata": {},
   "outputs": [],
   "source": [
    "def steamsupport():\n",
    "    driver=basicstarter()\n",
    "    steamstart(driver)\n",
    "    support= WebDriverWait(driver, 10).until(expected_conditions.element_to_be_clickable((By.CSS_SELECTOR, '.supernav_container > a:nth-child(6)')))\n",
    "    support.click()\n",
    "    assert \"Steam Support\" == driver.title, \"Tytuł strony jest niepoprawny\"\n",
    "    assert \"https://help.steampowered.com/\" in driver.current_url, \"Nie doszło do przekierowania na właściwą stronę\"\n",
    "    search=WebDriverWait(driver, 10).until(expected_conditions.presence_of_element_located((By.CSS_SELECTOR, '#help_search_support_input')))\n",
    "    search.send_keys(\"password\")\n",
    "    search.send_keys(Keys.RETURN)\n",
    "    result=WebDriverWait(driver, 10).until(expected_conditions.presence_of_element_located((By.CSS_SELECTOR, 'a.help_search_result:nth-child(2)')))\n",
    "    assert \"password\" in result.text and \"change\" in result.text, \"Zmiana hasła nie jest pierwszym wynikiem wyszukiwania\"\n",
    "    basickiller(driver)\n",
    "    print(\"Test zakończony sukcesem\")"
   ]
  },
  {
   "cell_type": "code",
   "execution_count": 147,
   "id": "17ceb095-f461-4dfc-81ee-d85684fdba89",
   "metadata": {},
   "outputs": [
    {
     "name": "stdout",
     "output_type": "stream",
     "text": [
      "Test zakończony sukcesem\n"
     ]
    }
   ],
   "source": [
    "steamsupport()"
   ]
  },
  {
   "cell_type": "markdown",
   "id": "0e3ad7f5-d350-406a-a0a7-419c24f9d66c",
   "metadata": {},
   "source": [
    "### Przypadek testowy 16 - Próba przejścia na stronę gry z ograniczeniem wiekowym i otwarcie strony DLC do niej\n",
    "Asercje: 2(44)"
   ]
  },
  {
   "cell_type": "code",
   "execution_count": 168,
   "id": "81fab5f7-a5a0-4da4-bbe6-d71941aa3d32",
   "metadata": {},
   "outputs": [],
   "source": [
    "def goingpostal():\n",
    "    driver=basicstarter()\n",
    "    steamstart(driver)\n",
    "    search=driver.find_element(By.XPATH,'//input[@id=\"store_nav_search_term\"]')\n",
    "    search.send_keys(\"postal iii\")\n",
    "    dude= WebDriverWait(driver, 10).until(expected_conditions.element_to_be_clickable((By.CSS_SELECTOR, 'a.match:nth-child(1)')))\n",
    "    dude.click()\n",
    "    assert \"Postal III on Steam\" in driver.title, \"Niewłaściwa strona produktu\"\n",
    "    bypass = Select(driver.find_element(By.ID, 'ageYear'))\n",
    "    bypass.select_by_value('1966')\n",
    "    whatever = Select(driver.find_element(By.ID, \"ageMonth\"))\n",
    "    whateva = Select(driver.find_element(By.ID, \"ageDay\"))\n",
    "    whatever.select_by_value(\"June\")\n",
    "    whateva.select_by_value(\"6\")\n",
    "    driver.find_element(By.CSS_SELECTOR,'#view_product_page_btn > span:nth-child(1)').click()\n",
    "    ost = WebDriverWait(driver, 10).until(expected_conditions.element_to_be_clickable((By.CSS_SELECTOR, '#dlc_row_2674620')))\n",
    "    ost.click()\n",
    "    assert \"Postal 3 - Official Soundtrack on Steam\"==driver.title, \"Nie dotarto na stronę DLC\"\n",
    "    basickiller(driver)\n",
    "    print(\"Test zakończony sukcesem\")"
   ]
  },
  {
   "cell_type": "code",
   "execution_count": 169,
   "id": "f6f03be8-bc97-4b36-baef-8e7f199a9448",
   "metadata": {},
   "outputs": [
    {
     "name": "stdout",
     "output_type": "stream",
     "text": [
      "Test zakończony sukcesem\n"
     ]
    }
   ],
   "source": [
    "goingpostal()"
   ]
  },
  {
   "cell_type": "markdown",
   "id": "764232be-4aad-444d-a913-98ef887ff83c",
   "metadata": {},
   "source": [
    "### Przypadek testowy 17 - Próba wejścia na rankingi graczy w grze owe rankingi udostępniającej\n",
    "Asercje: 4(48)"
   ]
  },
  {
   "cell_type": "code",
   "execution_count": 181,
   "id": "0c7f985c-792e-4cd5-ab6d-051aab31e8f7",
   "metadata": {},
   "outputs": [],
   "source": [
    "def heybrother():\n",
    "    driver=basicstarter()\n",
    "    steamstart(driver)\n",
    "    search=driver.find_element(By.XPATH,'//input[@id=\"store_nav_search_term\"]')\n",
    "    search.send_keys(\"AVICII\")\n",
    "    tim=WebDriverWait(driver, 10).until(expected_conditions.element_to_be_clickable((By.CSS_SELECTOR, 'a.match:nth-child(1)')))\n",
    "    tim.click()\n",
    "    assert \"AVICII Invector on Steam\" in driver.title, \"Niewłaściwa strona gry\"\n",
    "    bergling=WebDriverWait(driver, 10).until(expected_conditions.element_to_be_clickable((By.CSS_SELECTOR, '.communitylink_achievement_images > a:nth-child(4)')))\n",
    "    bergling.click()\n",
    "    assert \"Steam Community :: AVICII Invector :: Achievements\" == driver.title, \"Nie dotarto na stronę osiągnięć\"\n",
    "    true=WebDriverWait(driver, 10).until(expected_conditions.element_to_be_clickable((By.CSS_SELECTOR, '.tabOff > a:nth-child(1)')))\n",
    "    true.click()\n",
    "    assert \"leaderboards\" in driver.current_url, \"Nie dotarto na stronę rankingów gry\"\n",
    "    gonnaloveya=Select(driver.find_element(By.CSS_SELECTOR, '#lbID'))\n",
    "    gonnaloveya.select_by_value(\"3099556\")\n",
    "    stories=WebDriverWait(driver, 10).until(expected_conditions.element_to_be_clickable((By.CSS_SELECTOR, '#showButton')))\n",
    "    stories.click()\n",
    "    assert \"Gonna Love Ya\" in driver.title, \"Nie dotarto do właściwego rankingu\"\n",
    "    basickiller(driver)\n",
    "    print(\"Test zakończony sukcesem\")"
   ]
  },
  {
   "cell_type": "code",
   "execution_count": 182,
   "id": "741cb6ce-1670-403b-bdb0-1a6f221e6a9a",
   "metadata": {},
   "outputs": [
    {
     "name": "stdout",
     "output_type": "stream",
     "text": [
      "Test zakończony sukcesem\n"
     ]
    }
   ],
   "source": [
    "heybrother()"
   ]
  },
  {
   "cell_type": "markdown",
   "id": "d3aebd7e-c088-4b41-975f-7620fc99cf9f",
   "metadata": {},
   "source": [
    "### Przypadek testowy 18 - Próba wejścia w dyskusje na temat konkretnej gry z jej strony sklepu\n",
    "Asercje: 2(50)"
   ]
  },
  {
   "cell_type": "code",
   "execution_count": 192,
   "id": "2f67f1ab-2867-4bcd-a68f-176d8ced5cef",
   "metadata": {},
   "outputs": [],
   "source": [
    "def gamediscussions():\n",
    "    driver=basicstarter()\n",
    "    steamstart(driver)\n",
    "    search=driver.find_element(By.XPATH,'//input[@id=\"store_nav_search_term\"]')\n",
    "    search.send_keys(\"ghost recon island\")\n",
    "    game=WebDriverWait(driver, 10).until(expected_conditions.element_to_be_clickable((By.CSS_SELECTOR, 'a.match:nth-child(1)')))\n",
    "    game.click()\n",
    "    assert \"Tom Clancy's Ghost Recon® Island Thunder™ on Steam\" in driver.title, \"Niewłaściwa strona gry\"\n",
    "    discussions=WebDriverWait(driver, 10).until(expected_conditions.element_to_be_clickable((By.CSS_SELECTOR, 'a.linkbar:nth-child(4)')))\n",
    "    discussions.click()\n",
    "    driver.switch_to.window(driver.window_handles[1])\n",
    "    time.sleep(2)\n",
    "    assert \"Tom Clancy's Ghost Recon: Island Thunder General Discussions :: Steam Community\" == driver.title, \"Nie dotarto do strony z dyskusjami dotyczącymi gry\"\n",
    "    basickiller(driver)\n",
    "    print(\"Test zakończony sukcesem\")"
   ]
  },
  {
   "cell_type": "code",
   "execution_count": 193,
   "id": "2a5698be-c79b-4899-bd99-7fc3eafbd197",
   "metadata": {},
   "outputs": [
    {
     "name": "stdout",
     "output_type": "stream",
     "text": [
      "Test zakończony sukcesem\n"
     ]
    }
   ],
   "source": [
    "gamediscussions()"
   ]
  },
  {
   "cell_type": "markdown",
   "id": "9a9ca460-1aae-42c4-8d89-2880b467e80a",
   "metadata": {},
   "source": [
    "### Przypadek testowy 19 - Próba otworzenia strony sklepu z czterostronicowego, sześcioelementowego panelu ofert specjalnych\n",
    "Asercje: 1(51)"
   ]
  },
  {
   "cell_type": "code",
   "execution_count": 216,
   "id": "142b675d-7d85-4618-95e5-f0d40563f8db",
   "metadata": {},
   "outputs": [],
   "source": [
    "def sixelements():\n",
    "    driver=basicstarter()\n",
    "    steamstart(driver)\n",
    "    fourthpart=WebDriverWait(driver, 10).until(expected_conditions.element_to_be_clickable((By.CSS_SELECTOR, '#spotlight_carousel > div:nth-child(3) > div:nth-child(1)')))\n",
    "    fourthpart.click()\n",
    "    somegame=WebDriverWait(driver, 10).until(expected_conditions.element_to_be_clickable((By.CSS_SELECTOR, 'div.home_special_offers_group:nth-child(4) > div:nth-child(3) > div:nth-child(1) > a:nth-child(1) > div:nth-child(1) > img:nth-child(1)')))\n",
    "    somegame.click()\n",
    "    assert \"on Steam\" in driver.title, \"Nie dotarto do strony gry\"\n",
    "    try:\n",
    "        title = WebDriverWait(driver, 10).until(expected_conditions.presence_of_element_located((By.CSS_SELECTOR, \"#appHubAppName\")))\n",
    "        print(title.text)\n",
    "        print(\"------------\")\n",
    "    except:\n",
    "        print(\"Najprawdopodobniej natrafiono na pakiet gier\")\n",
    "    basickiller(driver)\n",
    "    print(\"Test zakończono sukcesem\")"
   ]
  },
  {
   "cell_type": "code",
   "execution_count": 217,
   "id": "0ca88dd4-d2aa-4530-90ca-431005ad7810",
   "metadata": {},
   "outputs": [
    {
     "name": "stdout",
     "output_type": "stream",
     "text": [
      "Red Dead Redemption 2\n",
      "------------\n",
      "Test zakończono sukcesem\n"
     ]
    }
   ],
   "source": [
    "sixelements()"
   ]
  },
  {
   "cell_type": "markdown",
   "id": "37d305d8-8eeb-45d8-be6f-8c00e4f74061",
   "metadata": {},
   "source": [
    "### Przypadek testowy 20 - Próba otworzenia strony ustawień cookies i wyłączenie UTM\n",
    "Asercje: 2(53)"
   ]
  },
  {
   "cell_type": "code",
   "execution_count": 229,
   "id": "dc0f95b2-f79b-4348-9c70-1bba47f7af70",
   "metadata": {},
   "outputs": [],
   "source": [
    "def notracking():\n",
    "    driver=basicstarter()\n",
    "    steamstart(driver)\n",
    "    cookiemonster=WebDriverWait(driver, 10).until(expected_conditions.element_to_be_clickable((By.CSS_SELECTOR, '#footer_text > div:nth-child(2) > a:nth-child(5)')))\n",
    "    cookiemonster.click()\n",
    "    driver.switch_to.window(driver.window_handles[1])\n",
    "    time.sleep(2)\n",
    "    templeofdoom=WebDriverWait(driver, 10).until(expected_conditions.presence_of_element_located((By.CSS_SELECTOR, \"#main_content > div:nth-child(1) > div:nth-child(1)\"))).text\n",
    "    assert \"Cookies\" in templeofdoom, \"Nie udało się dostać do ustawień cookies\"\n",
    "    utmbye=WebDriverWait(driver, 10).until(expected_conditions.element_to_be_clickable((By.CSS_SELECTOR, 'div._25H3qBQ1Lfsfq8nwc3M0Fk:nth-child(1) > div:nth-child(1) > div:nth-child(3) > div:nth-child(2) > div:nth-child(1) > div:nth-child(1)')))\n",
    "    utmbye.click()\n",
    "    classbyebye=utmbye.get_attribute(\"class\")\n",
    "    assert classbyebye == \"DialogToggleField_Option Off Active\", \"Nie udało się wyłączyć UTM\"\n",
    "    basickiller(driver)\n",
    "    print(\"Test zakończono sukcesem\")"
   ]
  },
  {
   "cell_type": "code",
   "execution_count": 230,
   "id": "471204d9-1b60-47d2-88e7-275e2b76d097",
   "metadata": {},
   "outputs": [
    {
     "name": "stdout",
     "output_type": "stream",
     "text": [
      "Test zakończono sukcesem\n"
     ]
    }
   ],
   "source": [
    "notracking()"
   ]
  }
 ],
 "metadata": {
  "kernelspec": {
   "display_name": "Python 3 (ipykernel)",
   "language": "python",
   "name": "python3"
  },
  "language_info": {
   "codemirror_mode": {
    "name": "ipython",
    "version": 3
   },
   "file_extension": ".py",
   "mimetype": "text/x-python",
   "name": "python",
   "nbconvert_exporter": "python",
   "pygments_lexer": "ipython3",
   "version": "3.11.2"
  }
 },
 "nbformat": 4,
 "nbformat_minor": 5
}
