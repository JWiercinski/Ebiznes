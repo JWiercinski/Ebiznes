{
 "cells": [
  {
   "cell_type": "markdown",
   "id": "9c00a499-6737-4863-997f-701b9ba47114",
   "metadata": {},
   "source": [
    "# Uruchomienie testów\n",
    "### Uruchomienie poniższej komórki jest nieodzowne do przeprowadzenia testów endpointów. Oprócz tego, przed uruchomieniem faktycznych testów, wymagane jest uruchomienie aplikacji Go, znajdującej się w folderze Zadanie4/go2sql lub Zadanie6/testtask4 niniejszego repozytorium.\n",
    "\n",
    "Uwaga w kwestii wersji testtask4 - baza danych nie została tam zapopulowana - w rezultacie funkcje bazujące na metodach GET, PUT, DELETE mogą nie zwracać oczekiwanych odpowiedzi, jeśli zostaną użyte przed funkcjami bazującymi na POST"
   ]
  },
  {
   "cell_type": "code",
   "execution_count": 9,
   "id": "e90e52c0-bd58-425d-9b59-06766eb00a20",
   "metadata": {},
   "outputs": [],
   "source": [
    "import selenium\n",
    "from seleniumrequests import Firefox"
   ]
  },
  {
   "cell_type": "markdown",
   "id": "23d3a004-6bea-43f4-812a-4338f9486942",
   "metadata": {},
   "source": [
    "Następujące cztery endpointy raczej nie posiadają jako takiego scenariusza negatywnego, jako że nie bazują na żadnych podawanych przez użytkownika danych. Jedyny potencjalny problem to najzwyczajniej wyłączony serwer "
   ]
  },
  {
   "cell_type": "markdown",
   "id": "1eb9e307-7dc7-4d9a-b55c-3dea5d30d5d7",
   "metadata": {},
   "source": [
    "## Endpoint 1 - Home"
   ]
  },
  {
   "cell_type": "code",
   "execution_count": 10,
   "id": "7e090d4c-ea52-49cc-bcf0-84c905ed469c",
   "metadata": {},
   "outputs": [],
   "source": [
    "def homeSweetHome():\n",
    "    webdriver = Firefox()\n",
    "    response = webdriver.request(\"Get\", \"http://localhost:22222/\")\n",
    "    assert response.status_code == 200, \"Nie otrzymano statusu OK\"\n",
    "    webdriver.quit()\n",
    "    print(\"Test zakończony pomyślnie\")"
   ]
  },
  {
   "cell_type": "code",
   "execution_count": 11,
   "id": "653a0510-0c78-4f56-b3b4-53876f478cab",
   "metadata": {},
   "outputs": [
    {
     "name": "stdout",
     "output_type": "stream",
     "text": [
      "Test zakończony pomyślnie\n"
     ]
    }
   ],
   "source": [
    "homeSweetHome()"
   ]
  },
  {
   "cell_type": "markdown",
   "id": "4e305103-2002-46a8-b519-e8bb6235a051",
   "metadata": {},
   "source": [
    "### Endpoint 2 - Products - Get All"
   ]
  },
  {
   "cell_type": "code",
   "execution_count": 12,
   "id": "e756d300-7d39-4d3e-a0e6-b476256075b2",
   "metadata": {},
   "outputs": [],
   "source": [
    "def allproducts():\n",
    "    webdriver = Firefox()\n",
    "    response = webdriver.request(\"Get\", \"http://localhost:22222/product\")\n",
    "    assert response.status_code == 200, \"Nie otrzymano statusu OK\"\n",
    "    assert \"ID\" in response.json()[0] , \"Lista produktów jest pusta\"\n",
    "    webdriver.quit()\n",
    "    print(\"Test zakończony pomyślnie\")"
   ]
  },
  {
   "cell_type": "code",
   "execution_count": 13,
   "id": "9c6803a8-4617-4b3c-9675-1034eacecc34",
   "metadata": {},
   "outputs": [
    {
     "name": "stdout",
     "output_type": "stream",
     "text": [
      "Test zakończony pomyślnie\n"
     ]
    }
   ],
   "source": [
    "allproducts()"
   ]
  },
  {
   "cell_type": "markdown",
   "id": "bf00f9d9-7d60-4b66-bab3-ff0d2e797d1b",
   "metadata": {},
   "source": [
    "### Endpoint 3 - Categories - Get All"
   ]
  },
  {
   "cell_type": "code",
   "execution_count": 52,
   "id": "275e2e1a-b34b-4b71-ac85-376633f4be71",
   "metadata": {},
   "outputs": [],
   "source": [
    "def allcategories():\n",
    "    webdriver = Firefox()\n",
    "    response = webdriver.request(\"Get\", \"http://localhost:22222/category\")\n",
    "    assert response.status_code == 200, \"Nie otrzymano statusu OK\"\n",
    "    assert \"ID\" in response.json()[0] , \"Lista kategorii jest pusta\"\n",
    "    webdriver.quit()\n",
    "    print(\"Test zakończony pomyślnie\")"
   ]
  },
  {
   "cell_type": "code",
   "execution_count": 53,
   "id": "e5bfb37d-b6e3-4bd7-9208-0a28fbe1c417",
   "metadata": {},
   "outputs": [
    {
     "name": "stdout",
     "output_type": "stream",
     "text": [
      "Test zakończony pomyślnie\n"
     ]
    }
   ],
   "source": [
    "allcategories()"
   ]
  },
  {
   "cell_type": "markdown",
   "id": "bf891dd1-42f1-4fa5-ba0c-5cb5b47703a8",
   "metadata": {},
   "source": [
    "### Endpoint 4 - Baskets - Get All"
   ]
  },
  {
   "cell_type": "code",
   "execution_count": 54,
   "id": "4c2f1147-4e10-42f3-a42d-58f9786b4bb5",
   "metadata": {},
   "outputs": [],
   "source": [
    "def allbaskets():\n",
    "    webdriver = Firefox()\n",
    "    response = webdriver.request(\"Get\", \"http://localhost:22222/basket\")\n",
    "    assert response.status_code == 200, \"Nie otrzymano statusu OK\"\n",
    "    assert \"ID\" in response.json()[0] , \"Lista koszyków jest pusta\"\n",
    "    webdriver.quit()\n",
    "    print(\"Test zakończony pomyślnie\")"
   ]
  },
  {
   "cell_type": "code",
   "execution_count": 55,
   "id": "588446ee-b902-4a76-9b6d-568ae8815bae",
   "metadata": {},
   "outputs": [
    {
     "name": "stdout",
     "output_type": "stream",
     "text": [
      "Test zakończony pomyślnie\n"
     ]
    }
   ],
   "source": [
    "allbaskets()"
   ]
  },
  {
   "cell_type": "markdown",
   "id": "b834354d-d7fd-40d9-85b7-cae25e4dd704",
   "metadata": {},
   "source": [
    "Poniższe enðpointy posiadają scenariusze negatywne"
   ]
  },
  {
   "cell_type": "markdown",
   "id": "6945f979-f7be-423a-b2e3-af657022647d",
   "metadata": {},
   "source": [
    "### Endpoint 5 - Product - Get One"
   ]
  },
  {
   "cell_type": "code",
   "execution_count": 64,
   "id": "0bdc7ed3-b980-4d09-8cd0-93a1c82cbed0",
   "metadata": {},
   "outputs": [],
   "source": [
    "def singleproduct():\n",
    "    webdriver = Firefox()\n",
    "    response = webdriver.request(\"Get\", \"http://localhost:22222/product/1\")\n",
    "    assert response.status_code == 200, \"Nie otrzymano statusu OK\"\n",
    "    assert \"Oto element o indeksie\" in response.text, \"Nie otrzymano elementu\"\n",
    "    webdriver.quit()\n",
    "    print(\"Test zakończony pomyślnie\")\n",
    "def singlebadproduct():\n",
    "    webdriver = Firefox()\n",
    "    response = webdriver.request(\"Get\", \"http://localhost:22222/product/1a\")\n",
    "    assert response.status_code == 400, \"Nie otrzymano statusu Bad Request\"\n",
    "    assert \"Podany indeks nie jest liczbą naturalną\" in response.text , \"Nie zwrócono właściwej informacji o błędzie\"\n",
    "    webdriver.quit()\n",
    "    print(\"Test zakończony pomyślnie\")"
   ]
  },
  {
   "cell_type": "code",
   "execution_count": 63,
   "id": "15e3712a-e380-4a7e-ab10-fa2478660a16",
   "metadata": {},
   "outputs": [
    {
     "name": "stdout",
     "output_type": "stream",
     "text": [
      "Test zakończony pomyślnie\n"
     ]
    }
   ],
   "source": [
    "singleproduct()"
   ]
  },
  {
   "cell_type": "code",
   "execution_count": 65,
   "id": "b2289edb-8981-47e2-ba22-f5ce492c116c",
   "metadata": {},
   "outputs": [
    {
     "name": "stdout",
     "output_type": "stream",
     "text": [
      "Test zakończony pomyślnie\n"
     ]
    }
   ],
   "source": [
    "singlebadproduct()"
   ]
  },
  {
   "cell_type": "markdown",
   "id": "c6423402-52d0-4880-9ea3-45b9d8a66705",
   "metadata": {},
   "source": [
    "### Endpoint 6 - Category - Get One"
   ]
  },
  {
   "cell_type": "code",
   "execution_count": 70,
   "id": "4bcf5993-74d2-4e58-9848-3da3388304da",
   "metadata": {},
   "outputs": [],
   "source": [
    "def singlecategory():\n",
    "    webdriver = Firefox()\n",
    "    response = webdriver.request(\"Get\", \"http://localhost:22222/category/1\")\n",
    "    assert response.status_code == 200, \"Nie otrzymano statusu OK\"\n",
    "    assert \"Oto kategoria o indeksie\" in response.text, \"Nie otrzymano elementu\"\n",
    "    webdriver.quit()\n",
    "    print(\"Test zakończony pomyślnie\")\n",
    "def singlebadcategory():\n",
    "    webdriver = Firefox()\n",
    "    response = webdriver.request(\"Get\", \"http://localhost:22222/product/100000000000000000\")\n",
    "    assert response.status_code == 404, \"Nie otrzymano statusu Not Found\"\n",
    "    assert \"Podany indeks nie istnieje w bazie danych\" in response.text , \"Nie zwrócono właściwej informacji o błędzie\"\n",
    "    webdriver.quit()\n",
    "    print(\"Test zakończony pomyślnie\")"
   ]
  },
  {
   "cell_type": "code",
   "execution_count": 67,
   "id": "9420030f-71e8-4c7d-9039-75914623361e",
   "metadata": {},
   "outputs": [
    {
     "name": "stdout",
     "output_type": "stream",
     "text": [
      "Test zakończony pomyślnie\n"
     ]
    }
   ],
   "source": [
    "singlecategory()"
   ]
  },
  {
   "cell_type": "code",
   "execution_count": 71,
   "id": "268e0cf1-6753-47f0-8e88-cfdb6a1eedab",
   "metadata": {},
   "outputs": [
    {
     "name": "stdout",
     "output_type": "stream",
     "text": [
      "Test zakończony pomyślnie\n"
     ]
    }
   ],
   "source": [
    "singlebadcategory()"
   ]
  },
  {
   "cell_type": "markdown",
   "id": "edd91e99-bc0d-4472-94a7-ff27d7b3ff8e",
   "metadata": {},
   "source": [
    "### Endpoint 7 - Basket - Get One"
   ]
  },
  {
   "cell_type": "code",
   "execution_count": 73,
   "id": "5b2c0196-8468-4bf5-806b-79a93cbaf857",
   "metadata": {},
   "outputs": [],
   "source": [
    "def singlebasket():\n",
    "    webdriver = Firefox()\n",
    "    response = webdriver.request(\"Get\", \"http://localhost:22222/basket/1\")\n",
    "    assert response.status_code == 200, \"Nie otrzymano statusu OK\"\n",
    "    assert \"Oto koszyk o indeksie\" in response.text, \"Nie otrzymano elementu\"\n",
    "    webdriver.quit()\n",
    "    print(\"Test zakończony pomyślnie\")\n",
    "def singlebadbasket():\n",
    "    webdriver = Firefox()\n",
    "    response = webdriver.request(\"Get\", \"http://localhost:22222/basket/303\")\n",
    "    assert response.status_code == 404, \"Nie otrzymano statusu Not Found\"\n",
    "    assert \"Podany indeks nie istnieje w bazie danych\" in response.text , \"Nie zwrócono właściwej informacji o błędzie\"\n",
    "    webdriver.quit()\n",
    "    print(\"Test zakończony pomyślnie\")"
   ]
  },
  {
   "cell_type": "code",
   "execution_count": 74,
   "id": "f51f9140-1ef6-462f-bb9c-c7dc5c0cd21f",
   "metadata": {},
   "outputs": [
    {
     "name": "stdout",
     "output_type": "stream",
     "text": [
      "Test zakończony pomyślnie\n"
     ]
    }
   ],
   "source": [
    "singlebasket()"
   ]
  },
  {
   "cell_type": "code",
   "execution_count": 75,
   "id": "302ecb5e-4020-4f9a-a31c-4ec15ec0e42a",
   "metadata": {},
   "outputs": [
    {
     "name": "stdout",
     "output_type": "stream",
     "text": [
      "Test zakończony pomyślnie\n"
     ]
    }
   ],
   "source": [
    "singlebadbasket()"
   ]
  },
  {
   "cell_type": "markdown",
   "id": "dd5fb95a-c147-44ec-89b0-247ecd88f5bf",
   "metadata": {},
   "source": [
    "### Endpoint 8 - Product - Post"
   ]
  },
  {
   "cell_type": "code",
   "execution_count": 16,
   "id": "e0c02532-e693-4d1d-93c7-83a495de457b",
   "metadata": {},
   "outputs": [],
   "source": [
    "def addproduct():\n",
    "    driver = Firefox()\n",
    "    response = driver.request(\"Post\", \"http://localhost:22222/product\", json={\"NAME\": \"Dilmah Green Tea Jasmine 222\", \"PRICE\": 9.49})\n",
    "    assert response.status_code==201, \"Nie otrzymano statusu Created\"\n",
    "    assert \"Stworzono produkt Dilmah Green Tea Jasmine 222 o cenie 9.49\" in response.text, \"Nie stworzono właściwego produktu\"\n",
    "    driver.quit()\n",
    "    print(\"Test zakończony pomyślnie\")\n",
    "def addfakeproduct():\n",
    "    driver = Firefox()\n",
    "    response = driver.request(\"Post\", \"http://localhost:22222/product\", json={\"NAME\": \"Kabumba\"})\n",
    "    assert response.status_code!=201, \"Otrzymano status created przy błędnym jsonie\"\n",
    "    assert \"Otrzymano albo pustą nazwę, albo cenę która nie jest ceną...\" in response.text, \"Nie otrzymano właściwej wiadomości zwrotnej\"\n",
    "    driver.quit()\n",
    "    print(\"Test zakończony pomyślnie\")"
   ]
  },
  {
   "cell_type": "code",
   "execution_count": 17,
   "id": "faff5eb0-0499-42c8-ad3a-1a64a15d1d94",
   "metadata": {},
   "outputs": [
    {
     "name": "stdout",
     "output_type": "stream",
     "text": [
      "Test zakończony pomyślnie\n"
     ]
    }
   ],
   "source": [
    "addproduct()"
   ]
  },
  {
   "cell_type": "code",
   "execution_count": 18,
   "id": "de761ee7-97fc-476e-982d-f419357f8b1a",
   "metadata": {},
   "outputs": [
    {
     "name": "stdout",
     "output_type": "stream",
     "text": [
      "Test zakończony pomyślnie\n"
     ]
    }
   ],
   "source": [
    "addfakeproduct()"
   ]
  },
  {
   "cell_type": "markdown",
   "id": "f0927fbb-3c6d-497c-9314-382f24ce8490",
   "metadata": {},
   "source": [
    "### Endpoint 9 - Category - Post"
   ]
  },
  {
   "cell_type": "code",
   "execution_count": 87,
   "id": "b5421c6a-a6a4-4b61-baf0-f51f108cfa88",
   "metadata": {},
   "outputs": [],
   "source": [
    "def addcategory():\n",
    "    driver = Firefox()\n",
    "    response = driver.request(\"Post\", \"http://localhost:22222/category\", json={\"NAME\": \"Tea\"})\n",
    "    assert response.status_code==200, \"Nie otrzymano statusu Created\"\n",
    "    assert \"Dodano kategorię o nazwie Tea\" in response.text, \"Nie stworzono właściwej kategorii\"\n",
    "    driver.quit()\n",
    "    print(\"Test zakończony pomyślnie\")\n",
    "def addfakecategory():\n",
    "    driver = Firefox()\n",
    "    response = driver.request(\"Post\", \"http://localhost:22222/category\", json={\"NAME\": \"INNE\"})\n",
    "    assert response.status_code==400, \"Nie otrzymano statusu Bad Request\"\n",
    "    assert \"Istnieje już kategoria o podanej nazwie\" in response.text, \"Nie otrzymano właściwej wiadomości zwrotnej\"\n",
    "    driver.quit()\n",
    "    print(\"Test zakończony pomyślnie\")"
   ]
  },
  {
   "cell_type": "code",
   "execution_count": 88,
   "id": "2373bae6-c23d-479c-99c8-94f79c78fe53",
   "metadata": {},
   "outputs": [
    {
     "name": "stdout",
     "output_type": "stream",
     "text": [
      "Test zakończony pomyślnie\n"
     ]
    }
   ],
   "source": [
    "addcategory()"
   ]
  },
  {
   "cell_type": "code",
   "execution_count": 89,
   "id": "92785296-e79d-4342-ba78-80c89a83701c",
   "metadata": {},
   "outputs": [
    {
     "name": "stdout",
     "output_type": "stream",
     "text": [
      "Test zakończony pomyślnie\n"
     ]
    }
   ],
   "source": [
    "addfakecategory()"
   ]
  },
  {
   "cell_type": "markdown",
   "id": "9a87a176-3a7f-43c1-9145-c12510107d3b",
   "metadata": {},
   "source": [
    "### Endpoint 10 - Basket - Post"
   ]
  },
  {
   "cell_type": "code",
   "execution_count": 102,
   "id": "284276b0-0e2b-4669-9f88-6b527da76c75",
   "metadata": {},
   "outputs": [],
   "source": [
    "def addbasket():\n",
    "    driver = Firefox()\n",
    "    response = driver.request(\"Post\", \"http://localhost:22222/basket\", json={\"USER\": \"HariMagłaja\", \"COUNT\": 7, \"VALUE\": 87})\n",
    "    assert response.status_code==201, \"Nie otrzymano statusu Created\"\n",
    "    assert \"Stworzono koszyk użytkownika HariMagłaja o wartości 87.00, składający się z 7\" in response.text, \"Nie stworzono koszyka dla zadeklarowanego użytkownika\"\n",
    "    driver.quit()\n",
    "    print(\"Test zakończony pomyślnie\")\n",
    "def addfakebasket():\n",
    "    driver = Firefox()\n",
    "    response = driver.request(\"Post\", \"http://localhost:22222/basket\")\n",
    "    assert response.ok != True, \"Otrzymano pozytywny status mimo braku danych nowego koszyka\"\n",
    "    driver.quit()\n",
    "    print(\"Test zakończony pomyślnie\")"
   ]
  },
  {
   "cell_type": "code",
   "execution_count": 103,
   "id": "b475317c-4b26-4a79-9707-8a236f7d974c",
   "metadata": {},
   "outputs": [
    {
     "name": "stdout",
     "output_type": "stream",
     "text": [
      "Test zakończony pomyślnie\n"
     ]
    }
   ],
   "source": [
    "addbasket()"
   ]
  },
  {
   "cell_type": "code",
   "execution_count": 104,
   "id": "78c6907e-10d0-4f23-881c-99e9d115bd01",
   "metadata": {},
   "outputs": [
    {
     "name": "stdout",
     "output_type": "stream",
     "text": [
      "Test zakończony pomyślnie\n"
     ]
    }
   ],
   "source": [
    "addfakebasket()"
   ]
  },
  {
   "cell_type": "markdown",
   "id": "befbdb1f-4010-432b-bffc-d70f452eb8cb",
   "metadata": {},
   "source": [
    "### Endpoint 11 - Product - Put"
   ]
  },
  {
   "cell_type": "code",
   "execution_count": 114,
   "id": "0ef7206f-e971-4eeb-bda9-9284b95fbf46",
   "metadata": {},
   "outputs": [],
   "source": [
    "def modifyproduct():\n",
    "    driver = Firefox()\n",
    "    response = driver.request(\"Put\", \"http://localhost:22222/product/2\", json={\"CATEGORYID\":2})\n",
    "    assert response.status_code==200, \"Nie otrzymano statusu OK\"\n",
    "    assert \"a kategoria to Telefony\" in response.text, \"Nie zmodyfikowano produktu\"\n",
    "    driver.quit()\n",
    "    print(\"Test zakończony pomyślnie\")\n",
    "def modifyfakeproduct():\n",
    "    driver = Firefox()\n",
    "    response = driver.request(\"Put\", \"http://localhost:22222/product/a\", json={\"NAME\": \"Kabumba\"})\n",
    "    assert response.status_code!=200, \"Otrzymano status OK przy indeksie będącym literą\"\n",
    "    assert \"Podany indeks nie jest liczbą naturalną...\" in response.text, \"Nie otrzymano właściwej wiadomości zwrotnej\"\n",
    "    driver.quit()\n",
    "    print(\"Test zakończony pomyślnie\")"
   ]
  },
  {
   "cell_type": "code",
   "execution_count": 108,
   "id": "4348567b-c0d7-48ce-b57f-66137e025d7a",
   "metadata": {},
   "outputs": [
    {
     "name": "stdout",
     "output_type": "stream",
     "text": [
      "Test zakończony pomyślnie\n"
     ]
    }
   ],
   "source": [
    "modifyproduct()"
   ]
  },
  {
   "cell_type": "code",
   "execution_count": 115,
   "id": "abb38ff0-351f-4426-8a5d-1f4ac14b1276",
   "metadata": {},
   "outputs": [
    {
     "name": "stdout",
     "output_type": "stream",
     "text": [
      "Test zakończony pomyślnie\n"
     ]
    }
   ],
   "source": [
    "modifyfakeproduct()"
   ]
  },
  {
   "cell_type": "markdown",
   "id": "50a0dfc6-2d3e-4c6b-ad1f-ee47b0952c7d",
   "metadata": {},
   "source": [
    "### Endpoint 12 - Category - Put"
   ]
  },
  {
   "cell_type": "code",
   "execution_count": 116,
   "id": "f9415e60-f43d-415b-9cca-abecdb01c03c",
   "metadata": {},
   "outputs": [],
   "source": [
    "def modifycategory():\n",
    "    driver = Firefox()\n",
    "    response = driver.request(\"Put\", \"http://localhost:22222/category/2\", json={\"NAME\":\"VerySmartName\"})\n",
    "    assert response.status_code==200, \"Nie otrzymano statusu OK\"\n",
    "    assert \"o indeksie 2 na VerySmartName\" in response.text, \"Nie zmodyfikowano produktu\"\n",
    "    driver.quit()\n",
    "    print(\"Test zakończony pomyślnie\")\n",
    "def modifyfakecategory():\n",
    "    driver = Firefox()\n",
    "    response = driver.request(\"Put\", \"http://localhost:22222/category/666\", json={\"NAME\": \"SameBelzebuby\"})\n",
    "    assert response.status_code!=200, \"Otrzymano status OK przy nieistniejącym indeksie\"\n",
    "    assert \"Podany indeks nie istnieje\" in response.text, \"Nie otrzymano właściwej wiadomości zwrotnej\"\n",
    "    driver.quit()\n",
    "    print(\"Test zakończony pomyślnie\")"
   ]
  },
  {
   "cell_type": "code",
   "execution_count": 117,
   "id": "71240966-7356-4736-aa59-00323c65e3d6",
   "metadata": {},
   "outputs": [
    {
     "name": "stdout",
     "output_type": "stream",
     "text": [
      "Test zakończony pomyślnie\n"
     ]
    }
   ],
   "source": [
    "modifycategory()"
   ]
  },
  {
   "cell_type": "code",
   "execution_count": 118,
   "id": "1da19ba3-d6aa-42e7-95ca-00743fdc33b0",
   "metadata": {},
   "outputs": [
    {
     "name": "stdout",
     "output_type": "stream",
     "text": [
      "Test zakończony pomyślnie\n"
     ]
    }
   ],
   "source": [
    "modifyfakecategory()"
   ]
  },
  {
   "cell_type": "markdown",
   "id": "80109504-1521-4e9a-8091-2c65e6699c85",
   "metadata": {},
   "source": [
    "### Endpoint 13 - Basket - Put"
   ]
  },
  {
   "cell_type": "code",
   "execution_count": 127,
   "id": "85f5d9aa-2457-46a6-889b-b9824c127c6b",
   "metadata": {},
   "outputs": [],
   "source": [
    "def modifybasket():\n",
    "    driver = Firefox()\n",
    "    response = driver.request(\"Put\", \"http://localhost:22222/basket/9\", json={\"USER\":\"Zimniok\"})\n",
    "    assert response.status_code==200, \"Nie otrzymano statusu OK\"\n",
    "    assert \"Nazwa odpowiedzialnego użytkownika to Zimniok\" in response.text, \"Nie zmodyfikowano nazwy użytkownika związanego z koszykiem\"\n",
    "    driver.quit()\n",
    "    print(\"Test zakończony pomyślnie\")\n",
    "def modifyfakebasket():\n",
    "    driver = Firefox()\n",
    "    response = driver.request(\"Put\", \"http://localhost:22222/basket/\", json={\"USER\":\"Zimniok\"})\n",
    "    assert response.status_code!=200, \"Otrzymano status OK przy braku indeksu\"\n",
    "    driver.quit()\n",
    "    print(\"Test zakończony pomyślnie\")"
   ]
  },
  {
   "cell_type": "code",
   "execution_count": 128,
   "id": "5264b3ab-b13b-47d3-b104-8d7e689a9973",
   "metadata": {},
   "outputs": [
    {
     "name": "stdout",
     "output_type": "stream",
     "text": [
      "Test zakończony pomyślnie\n"
     ]
    }
   ],
   "source": [
    "modifybasket()"
   ]
  },
  {
   "cell_type": "code",
   "execution_count": 125,
   "id": "3f5c8cd4-2580-4ffc-90ad-844faa61cd0e",
   "metadata": {},
   "outputs": [
    {
     "name": "stdout",
     "output_type": "stream",
     "text": [
      "Test zakończony pomyślnie\n"
     ]
    }
   ],
   "source": [
    "modifyfakebasket()"
   ]
  },
  {
   "cell_type": "markdown",
   "id": "32c10443-d672-41c7-ba57-625d84703922",
   "metadata": {},
   "source": [
    "### Endpoint 14 - Product - Delete"
   ]
  },
  {
   "cell_type": "code",
   "execution_count": 131,
   "id": "784e3539-8ed5-48d4-96ba-b2b927f64786",
   "metadata": {},
   "outputs": [],
   "source": [
    "def deleteproduct():\n",
    "    driver = Firefox()\n",
    "    response = driver.request(\"Delete\", \"http://localhost:22222/product/7\")\n",
    "    assert response.status_code==200, \"Nie otrzymano statusu OK\"\n",
    "    assert \"Usunięto element o indeksie 7\" in response.text, \"Nie usunięto produktu\"\n",
    "    driver.quit()\n",
    "    print(\"Test zakończony pomyślnie\")\n",
    "def deletefakeproduct():\n",
    "    driver = Firefox()\n",
    "    response = driver.request(\"Delete\", \"http://localhost:22222/product\")\n",
    "    assert response.status_code!=200, \"Otrzymano status OK przy braku indeksu\"\n",
    "    driver.quit()\n",
    "    print(\"Test zakończony pomyślnie\")"
   ]
  },
  {
   "cell_type": "code",
   "execution_count": 130,
   "id": "c200f80b-4658-473b-9ddb-cc66459c282d",
   "metadata": {},
   "outputs": [
    {
     "name": "stdout",
     "output_type": "stream",
     "text": [
      "Test zakończony pomyślnie\n"
     ]
    }
   ],
   "source": [
    "deleteproduct()"
   ]
  },
  {
   "cell_type": "code",
   "execution_count": 132,
   "id": "7bdee4ca-a3ac-459e-a9f8-5bfecdda59aa",
   "metadata": {},
   "outputs": [
    {
     "name": "stdout",
     "output_type": "stream",
     "text": [
      "Test zakończony pomyślnie\n"
     ]
    }
   ],
   "source": [
    "deletefakeproduct()"
   ]
  },
  {
   "cell_type": "markdown",
   "id": "b1649f43-349a-473f-90ae-da232729ddde",
   "metadata": {},
   "source": [
    "### Endpoint 15 - Category - Delete"
   ]
  },
  {
   "cell_type": "code",
   "execution_count": 140,
   "id": "874ba4ca-c814-48a7-99eb-ce5279f65570",
   "metadata": {},
   "outputs": [],
   "source": [
    "def deletecategory():\n",
    "    driver = Firefox()\n",
    "    response = driver.request(\"Delete\", \"http://localhost:22222/category/4\")\n",
    "    assert response.status_code==200, \"Nie otrzymano statusu OK\"\n",
    "    assert \"Usunięto kategorię o indeksie 4\" in response.text, \"Nie usunięto kategorii\"\n",
    "    driver.quit()\n",
    "    print(\"Test zakończony pomyślnie\")\n",
    "def deletefakecategory():\n",
    "    driver = Firefox()\n",
    "    response = driver.request(\"Delete\", \"http://localhost:22222/category/1\")\n",
    "    assert response.status_code==400, \"Nie otrzymano statusu BadRequest\"\n",
    "    assert \"Nie można usunąć kategorii domyślnej!\" in response.text, \"Niepoprawna odpowiedź serwera\"\n",
    "    driver.quit()\n",
    "    print(\"Test zakończony pomyślnie\")"
   ]
  },
  {
   "cell_type": "code",
   "execution_count": 136,
   "id": "e22317cc-58c8-4c91-8cc9-f3476d735236",
   "metadata": {},
   "outputs": [
    {
     "name": "stdout",
     "output_type": "stream",
     "text": [
      "Test zakończony pomyślnie\n"
     ]
    }
   ],
   "source": [
    "deletecategory()"
   ]
  },
  {
   "cell_type": "code",
   "execution_count": 141,
   "id": "b594d937-d188-41d1-9c88-ff9724ab9d3d",
   "metadata": {},
   "outputs": [
    {
     "name": "stdout",
     "output_type": "stream",
     "text": [
      "Test zakończony pomyślnie\n"
     ]
    }
   ],
   "source": [
    "deletefakecategory()"
   ]
  },
  {
   "cell_type": "markdown",
   "id": "e9aab2c6-07a1-4585-a2ea-f0f619405f39",
   "metadata": {},
   "source": [
    "### Endpoint 16 - Basket - Delete"
   ]
  },
  {
   "cell_type": "code",
   "execution_count": 142,
   "id": "6e839c65-7237-40cf-a80e-9a0855803bbe",
   "metadata": {},
   "outputs": [],
   "source": [
    "def deletebasket():\n",
    "    driver = Firefox()\n",
    "    response = driver.request(\"Delete\", \"http://localhost:22222/basket/8\")\n",
    "    assert response.status_code==200, \"Nie otrzymano statusu OK\"\n",
    "    assert \"Usunięto koszyk o indeksie 8\" in response.text, \"Nie usunięto koszyka\"\n",
    "    driver.quit()\n",
    "    print(\"Test zakończony pomyślnie\")\n",
    "def deletefakebasket():\n",
    "    driver = Firefox()\n",
    "    response = driver.request(\"Delete\", \"http://localhost:22222/basket/a\")\n",
    "    assert response.status_code==400, \"Nie otrzymano statusu BadRequest\"\n",
    "    assert \"Podany indeks nie jest liczbą naturalną...\" in response.text, \"Niepoprawna odpowiedź serwera\"\n",
    "    driver.quit()\n",
    "    print(\"Test zakończony pomyślnie\")"
   ]
  },
  {
   "cell_type": "code",
   "execution_count": 143,
   "id": "bdcaf7a6-c5a8-4232-9fba-4fa7ba3a8659",
   "metadata": {},
   "outputs": [
    {
     "name": "stdout",
     "output_type": "stream",
     "text": [
      "Test zakończony pomyślnie\n"
     ]
    }
   ],
   "source": [
    "deletebasket()"
   ]
  },
  {
   "cell_type": "code",
   "execution_count": 144,
   "id": "948cb21b-719c-4b12-bac1-2f28294eb272",
   "metadata": {},
   "outputs": [
    {
     "name": "stdout",
     "output_type": "stream",
     "text": [
      "Test zakończony pomyślnie\n"
     ]
    }
   ],
   "source": [
    "deletefakebasket()"
   ]
  },
  {
   "cell_type": "markdown",
   "id": "e90bce57-fe18-4da8-be95-23f35bbffe81",
   "metadata": {},
   "source": [
    "### Endpoint 17 - Kill\n",
    "Brak scenariusza negatywnego, jako że nie przyjmuje argumentów - i działa tylko jeśli działa sama aplikacja"
   ]
  },
  {
   "cell_type": "code",
   "execution_count": 19,
   "id": "c98a7eff-7df1-4a71-b38f-f6502b729ebc",
   "metadata": {},
   "outputs": [],
   "source": [
    "import requests\n",
    "def goGone():\n",
    "    webdriver = Firefox()\n",
    "    try:\n",
    "        webdriver.request(\"Get\", \"http://localhost:22222/kill\")\n",
    "    except requests.exceptions.ConnectionError:\n",
    "        webdriver.quit()\n",
    "        print(\"Test zakończony pomyślnie\")"
   ]
  },
  {
   "cell_type": "code",
   "execution_count": 20,
   "id": "7d0a78cc-80a2-4fbc-a680-a30ebb6b2085",
   "metadata": {},
   "outputs": [
    {
     "name": "stdout",
     "output_type": "stream",
     "text": [
      "Test zakończony pomyślnie\n"
     ]
    }
   ],
   "source": [
    "goGone()"
   ]
  }
 ],
 "metadata": {
  "kernelspec": {
   "display_name": "Python 3 (ipykernel)",
   "language": "python",
   "name": "python3"
  },
  "language_info": {
   "codemirror_mode": {
    "name": "ipython",
    "version": 3
   },
   "file_extension": ".py",
   "mimetype": "text/x-python",
   "name": "python",
   "nbconvert_exporter": "python",
   "pygments_lexer": "ipython3",
   "version": "3.11.2"
  }
 },
 "nbformat": 4,
 "nbformat_minor": 5
}
